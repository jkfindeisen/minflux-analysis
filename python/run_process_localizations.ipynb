{
 "cells": [
  {
   "cell_type": "code",
   "execution_count": 1,
   "id": "fc522b82",
   "metadata": {},
   "outputs": [],
   "source": [
    "# Some imports\n",
    "import sys\n",
    "import os, glob\n",
    "from processlocalizations import ProcessLocalizations\n",
    "import re\n",
    "from matplotlib import pyplot as plt\n",
    "import math\n",
    "import numpy as np\n",
    "import mfxcolnames as col"
   ]
  },
  {
   "cell_type": "code",
   "execution_count": 2,
   "id": "3fcd0d88",
   "metadata": {},
   "outputs": [],
   "source": [
    "# Get file names\n",
    "\n",
    "OUTDIR_LOC = 'C:/Users/apoliti/Desktop/mflux_zarr_tmp_storage/analysis/' # Main directory to store zarr files\n",
    "OUTDIR_REM =  'Z:/siva_minflux/analysis/'  # Main directory to store results \n",
    "INDIR  = 'Z:/siva_minflux/data/'       # main directory of msr file\n",
    "\n",
    "# Multiple washes with different imager strand\n",
    "indir_mwash = {'Syp_ATG9': INDIR + '/Multiwash/Syp_ATG9/', \n",
    "             'ZnT3_Syp': INDIR + '/Multiwash/ZnT3_Syp/'}\n",
    "outdir_mwash = {'Syp_ATG9': OUTDIR_REM +  '/Multiwash/Syp_ATG9/', \n",
    "                'ZnT3_Syp': OUTDIR_REM +  '/Multiwash/ZnT3_Syp/'}\n",
    "zarrdir_mwash = {'Syp_ATG9': OUTDIR_LOC + '/Multiwash/Syp_ATG9', \n",
    "                'ZnT3_Syp': OUTDIR_LOC + '/Multiwash/ZnT3_Syp/'}\n",
    "\n",
    "# Wash with a single imager strand\n",
    "indir_swash = {'Syp': INDIR + '/Single wash/Syp/', \n",
    "             'ATG9': INDIR + '/Single wash/ATG9/'}\n",
    "outdir_swash = {'Syp': OUTDIR_REM +  '/Single wash/Syp/', \n",
    "                'ATG9': OUTDIR_REM +  '/Single wash/ATG9/'}\n",
    "zarrdir_swash = {'Syp': OUTDIR_LOC +  '/Single wash/Syp/', \n",
    "                'ATG9': OUTDIR_LOC +  '/Single wash/ATG9/'}\n",
    "\n",
    "\n",
    "# Consitency controls. Wash with a single imager strand but multiple times. \n",
    "indir_cwash = {'VGLUT1_VGLUT1': INDIR + '/Multiwash/VGLUT1_VGLUT1/'}\n",
    "outdir_cwash = {'VGLUT1_VGLUT1': OUTDIR_REM +  '/Multiwash/VGLUT1_VGLUT1/'}\n",
    "zarrdir_cwash = {'VGLUT1_VGLUT1': OUTDIR_LOC +  '/Multiwash/VGLUT1_VGLUT1/'}\n",
    "\n",
    "\n",
    "\n",
    "npy_mwash = {'Syp_ATG9': [], 'ZnT3_Syp': []}\n",
    "\n",
    "for key in outdir_mwash:\n",
    "    for (root, dirs, files) in os.walk(outdir_mwash[key]):\n",
    "        if len(dirs) > 0:\n",
    "            for adir in dirs:\n",
    "                npyfile = os.path.join(root, adir, adir +'.npy')\n",
    "                if os.path.exists(npyfile):\n",
    "                    npy_mwash[key].append(npyfile)\n",
    "                    \n",
    "\n",
    "npy_swash = {'Syp': [], 'ATG9': []}\n",
    "\n",
    "for key in outdir_swash:\n",
    "    for (root, dirs, files) in os.walk(outdir_swash[key]):\n",
    "        if len(dirs) > 0:\n",
    "            for adir in dirs:\n",
    "                npyfile = os.path.join(root, adir, adir +'.npy')\n",
    "                if os.path.exists(npyfile):\n",
    "                    npy_swash[key].append(npyfile)\n",
    "\n",
    "npy_cwash = {'VGLUT1_VGLUT1': []}\n",
    "\n",
    "for key in outdir_cwash:\n",
    "    for (root, dirs, files) in os.walk(outdir_cwash[key]):\n",
    "        if len(dirs) > 0:\n",
    "            for adir in dirs:\n",
    "                npyfile = os.path.join(root, adir, adir +'.npy')\n",
    "                if os.path.exists(npyfile):\n",
    "                    npy_cwash[key].append(npyfile)\n",
    "                    "
   ]
  },
  {
   "cell_type": "code",
   "execution_count": 3,
   "id": "39623be9",
   "metadata": {},
   "outputs": [
    {
     "name": "stdout",
     "output_type": "stream",
     "text": [
      "*******time_min_localizations*******\n",
      "220811_VGLUT1_P1 Removed 927/2692 tracks with less than 3 localisations\n",
      "*******time_min_localizations*******\n",
      "220811_VGLUT1_P2 Removed 738/1813 tracks with less than 3 localisations\n",
      "*******cluster_tid*******\n",
      "220811_VGLUT1_P1 MIN_SPLIT_LOCALIZATION: 8, sd_limit: 11.11 nm\n",
      "Processed TID: 292 / 1765, Total tracks TID2: 1989\n",
      "*******cluster_tid*******\n",
      "220811_VGLUT1_P2 MIN_SPLIT_LOCALIZATION: 8, sd_limit: 11.11 nm\n",
      "Processed TID: 171 / 1075, Total tracks TID2: 1204\n",
      "*******cluster_meas*******\n",
      "220811_VGLUT1_P1, Method dbscan, eps: 30.00 nm\n",
      "Total tracks TID2: 1989, total clusters meas: 514\n",
      "*******cluster_meas*******\n",
      "220811_VGLUT1_P2, Method dbscan, eps: 30.00 nm\n",
      "Total tracks TID2: 1204, total clusters meas: 435\n",
      "*******cluster_all*******\n",
      "220811_VGLUT1_P1, Method: dbscan, eps: 60.00 nm\n",
      "Total tracks TID2: 1989, total cluster all: 173\n",
      "*******cluster_all*******\n",
      "220811_VGLUT1_P2, Method: dbscan, eps: 60.00 nm\n",
      "Total tracks TID2: 1204, total cluster all: 140\n",
      "*******cluster_all_intersect*******\n",
      "220811_VGLUT1_P1 cluster with 220811_VGLUT1_P2 30/172 = 0.17\n",
      "220811_VGLUT1_P2 cluster with 220811_VGLUT1_P1 30/139 = 0.22\n",
      "\n"
     ]
    }
   ],
   "source": [
    "pl = ProcessLocalizations(npy_cwash['VGLUT1_VGLUT1'][1])\n",
    "pl.MIN_LOCALIZATIONS = 3\n",
    "pl.trim_min_localizations()\n",
    "# Split tracks if needed, remove outliers in each track\n",
    "pl.cluster_tid(method=pl.CLS_METHOD_BAYES_GMM)\n",
    "\n",
    "# find objects that belong to the same cluster according to distance 30 nm\n",
    "pl.cluster_meas(method=pl.CLS_METHOD_DBSCAN)\n",
    "pl.DBCLUSTER_EPS_ALL = 6e-8\n",
    "pl.cluster_all(method=pl.CLS_METHOD_DBSCAN)\n",
    "pl.cluster_all_intersect()"
   ]
  },
  {
   "cell_type": "code",
   "execution_count": 7,
   "id": "5fe4bfab",
   "metadata": {},
   "outputs": [
    {
     "name": "stdout",
     "output_type": "stream",
     "text": [
      "*******cluster_all*******\n",
      "220811_VGLUT1_P1, Method: dbscan, eps: 100.00 nm\n",
      "Total tracks TID2: 1989, total cluster all: 71\n",
      "*******cluster_all*******\n",
      "220811_VGLUT1_P2, Method: dbscan, eps: 100.00 nm\n",
      "Total tracks TID2: 1204, total cluster all: 44\n",
      "*******cluster_all_intersect*******\n",
      "220811_VGLUT1_P1 cluster with 220811_VGLUT1_P2 16/70 = 0.23\n",
      "220811_VGLUT1_P2 cluster with 220811_VGLUT1_P1 16/43 = 0.37\n",
      "\n"
     ]
    }
   ],
   "source": [
    "pl.DBCLUSTER_EPS_ALL = 10e-8\n",
    "pl.cluster_all(method=pl.CLS_METHOD_DBSCAN)\n",
    "pl.cluster_all_intersect()"
   ]
  },
  {
   "cell_type": "code",
   "execution_count": 5,
   "id": "7cd8d639",
   "metadata": {},
   "outputs": [
    {
     "ename": "KeyError",
     "evalue": "'220825_Syp_P1'",
     "output_type": "error",
     "traceback": [
      "\u001b[1;31m---------------------------------------------------------------------------\u001b[0m",
      "\u001b[1;31mKeyError\u001b[0m                                  Traceback (most recent call last)",
      "Input \u001b[1;32mIn [5]\u001b[0m, in \u001b[0;36m<cell line: 1>\u001b[1;34m()\u001b[0m\n\u001b[1;32m----> 1\u001b[0m \u001b[38;5;28msum\u001b[39m(\u001b[43mpl\u001b[49m\u001b[38;5;241;43m.\u001b[39;49m\u001b[43mloc\u001b[49m\u001b[43m[\u001b[49m\u001b[38;5;124;43m'\u001b[39;49m\u001b[38;5;124;43m220825_Syp_P1\u001b[39;49m\u001b[38;5;124;43m'\u001b[39;49m\u001b[43m]\u001b[49m[col\u001b[38;5;241m.\u001b[39mTID2] \u001b[38;5;241m==\u001b[39m \u001b[38;5;241m-\u001b[39m\u001b[38;5;241m1\u001b[39m)\n",
      "\u001b[1;31mKeyError\u001b[0m: '220825_Syp_P1'"
     ]
    }
   ],
   "source": [
    "sum(pl.loc['220825_Syp_P1'][col.TID2] == -1)"
   ]
  },
  {
   "cell_type": "code",
   "execution_count": 8,
   "id": "6bb37c08",
   "metadata": {},
   "outputs": [
    {
     "data": {
      "text/plain": [
       "'Z:/siva_minflux/analysis//Multiwash/VGLUT1_VGLUT1/220811_VGLUT1_ROI01_First\\\\220811_VGLUT1_ROI01_First.npy'"
      ]
     },
     "execution_count": 8,
     "metadata": {},
     "output_type": "execute_result"
    }
   ],
   "source": [
    "npy_cwash['VGLUT1_VGLUT1'][1]"
   ]
  },
  {
   "cell_type": "code",
   "execution_count": null,
   "id": "ca94af24",
   "metadata": {},
   "outputs": [],
   "source": []
  }
 ],
 "metadata": {
  "kernelspec": {
   "display_name": "Python [conda env:minflux-analysis]",
   "language": "python",
   "name": "conda-env-minflux-analysis-py"
  },
  "language_info": {
   "codemirror_mode": {
    "name": "ipython",
    "version": 3
   },
   "file_extension": ".py",
   "mimetype": "text/x-python",
   "name": "python",
   "nbconvert_exporter": "python",
   "pygments_lexer": "ipython3",
   "version": "3.9.13"
  }
 },
 "nbformat": 4,
 "nbformat_minor": 5
}
