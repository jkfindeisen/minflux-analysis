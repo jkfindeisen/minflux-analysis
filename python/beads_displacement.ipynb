{
 "cells": [
  {
   "cell_type": "code",
   "execution_count": null,
   "id": "7e0d6a96",
   "metadata": {},
   "outputs": [],
   "source": [
    "#%config Completer.use_jedi = False"
   ]
  },
  {
   "cell_type": "code",
   "execution_count": 1,
   "id": "4980df48",
   "metadata": {},
   "outputs": [],
   "source": [
    "import math \n",
    "import napari\n",
    "from skimage.data import astronaut\n",
    "# create the viewer and display the image\n",
    "#viewer = napari.view_image(astronaut(), rgb=True)\n",
    "\n"
   ]
  },
  {
   "cell_type": "code",
   "execution_count": 1,
   "id": "cd2d236f",
   "metadata": {},
   "outputs": [],
   "source": [
    "import zarr\n",
    "import os\n",
    "import numpy as np\n",
    "from tkinter.filedialog import askdirectory\n",
    "import numpy as np\n",
    "import matplotlib.pyplot as plt\n",
    "\n",
    "#zarr_directory_beads = \"T:/Antonio_Politi/Code/minflux-analysis/resources/R2_P1_zarr\"\n",
    "zarr_directory_beads = \"C:/Users/apoliti/R2_P1_zarr\"\n",
    "\n",
    "beads = zarr.open(store = zarr_directory_beads, mode='r')\n",
    "R2 = beads['grd/mbm/R2']\n",
    "R3 = beads['grd/mbm/R3']"
   ]
  },
  {
   "cell_type": "code",
   "execution_count": 3,
   "id": "bbf1be3f",
   "metadata": {},
   "outputs": [
    {
     "name": "stderr",
     "output_type": "stream",
     "text": [
      "C:\\Users\\apoliti\\Miniconda3\\envs\\devbio-napari-env\\lib\\site-packages\\napari_tools_menu\\__init__.py:179: FutureWarning: Public access to Window.qt_viewer is deprecated and will be removed in\n",
      "v0.5.0. It is considered an \"implementation detail\" of the napari\n",
      "application, not part of the napari viewer model. If your use case\n",
      "requires access to qt_viewer, please open an issue to discuss.\n",
      "  self.tools_menu = ToolsMenu(self, self.qt_viewer.viewer)\n",
      "C:\\Users\\apoliti\\Miniconda3\\envs\\devbio-napari-env\\lib\\site-packages\\numpy\\core\\numeric.py:2463: FutureWarning: elementwise comparison failed; returning scalar instead, but in the future will perform elementwise comparison\n",
      "  return bool(asarray(a1 == a2).all())\n"
     ]
    }
   ],
   "source": [
    "viewer = napari.Viewer()\n",
    "points = viewer.add_points( ndim = 3, data= R2['pos']/1e-6, symbol = 'ring', face_color = 'white', size = 5, visible= True)\n"
   ]
  },
  {
   "cell_type": "code",
   "execution_count": 4,
   "id": "4d5211ac",
   "metadata": {
    "scrolled": true
   },
   "outputs": [],
   "source": [
    "coords = np.random.uniform(0,100,(10000,3))\n",
    "coords[:,0] *=.1\n",
    "size   = np.random.uniform(.4, 1, len(coords))\n",
    "values = np.random.uniform(0.2,1, len(coords))"
   ]
  },
  {
   "cell_type": "code",
   "execution_count": 47,
   "id": "8cf7e777",
   "metadata": {},
   "outputs": [],
   "source": [
    "viewer = napari.Viewer()\n",
    "points = viewer.add_points( ndim = 3, data= coords, symbol = 'ring', face_color = 'white', size = 5, visible= True)\n",
    "Points"
   ]
  },
  {
   "cell_type": "code",
   "execution_count": 3,
   "id": "4b124436",
   "metadata": {},
   "outputs": [
    {
     "name": "stderr",
     "output_type": "stream",
     "text": [
      "C:\\Users\\apoliti\\Miniconda3\\envs\\devbio-napari-env\\lib\\site-packages\\napari_tools_menu\\__init__.py:179: FutureWarning: Public access to Window.qt_viewer is deprecated and will be removed in\n",
      "v0.5.0. It is considered an \"implementation detail\" of the napari\n",
      "application, not part of the napari viewer model. If your use case\n",
      "requires access to qt_viewer, please open an issue to discuss.\n",
      "  self.tools_menu = ToolsMenu(self, self.qt_viewer.viewer)\n",
      "c:\\users\\apoliti\\napari-particles\\src\\napari_particles\\particles.py:191: FutureWarning: Public access to Window.qt_viewer is deprecated and will be removed in\n",
      "v0.5.0. It is considered an \"implementation detail\" of the napari\n",
      "application, not part of the napari viewer model. If your use case\n",
      "requires access to qt_viewer, please open an issue to discuss.\n",
      "  return viewer.window.qt_viewer.layer_to_visual[self].node\n",
      "c:\\users\\apoliti\\napari-particles\\src\\napari_particles\\particles.py:203: FutureWarning: Public access to Window.qt_viewer is deprecated and will be removed in\n",
      "v0.5.0. It is considered an \"implementation detail\" of the napari\n",
      "application, not part of the napari viewer model. If your use case\n",
      "requires access to qt_viewer, please open an issue to discuss.\n",
      "  shading_ctrl = self._viewer.window.qt_viewer.controls.widgets[self]\n"
     ]
    },
    {
     "name": "stdout",
     "output_type": "stream",
     "text": [
      "test mode started\n"
     ]
    },
    {
     "name": "stderr",
     "output_type": "stream",
     "text": [
      "c:\\users\\apoliti\\napari-storm\\src\\napari_storm\\Exp_Controls.py:243: FutureWarning: Public access to Window.qt_viewer is deprecated and will be removed in\n",
      "v0.5.0. It is considered an \"implementation detail\" of the napari\n",
      "application, not part of the napari viewer model. If your use case\n",
      "requires access to qt_viewer, please open an issue to discuss.\n",
      "  self.viewer.window.qt_viewer.on_mouse_press = self.our_mouse_press\n",
      "c:\\users\\apoliti\\napari-storm\\src\\napari_storm\\Exp_Controls.py:244: FutureWarning: Public access to Window.qt_viewer is deprecated and will be removed in\n",
      "v0.5.0. It is considered an \"implementation detail\" of the napari\n",
      "application, not part of the napari viewer model. If your use case\n",
      "requires access to qt_viewer, please open an issue to discuss.\n",
      "  self.viewer.window.qt_viewer.on_mouse_move = self.our_mouse_move\n",
      "c:\\users\\apoliti\\napari-storm\\src\\napari_storm\\Exp_Controls.py:245: FutureWarning: Public access to Window.qt_viewer is deprecated and will be removed in\n",
      "v0.5.0. It is considered an \"implementation detail\" of the napari\n",
      "application, not part of the napari viewer model. If your use case\n",
      "requires access to qt_viewer, please open an issue to discuss.\n",
      "  self.viewer.window.qt_viewer.on_mouse_release = self.our_mouse_release\n",
      "c:\\users\\apoliti\\napari-storm\\src\\napari_storm\\_reader.py:62: FutureWarning: Public access to Window.qt_viewer is deprecated and will be removed in\n",
      "v0.5.0. It is considered an \"implementation detail\" of the napari\n",
      "application, not part of the napari viewer model. If your use case\n",
      "requires access to qt_viewer, please open an issue to discuss.\n",
      "  v.window.qt_viewer.dockLayerControls.setVisible(False)\n"
     ]
    }
   ],
   "source": [
    "import napari\n",
    "import numpy as np\n",
    "from skimage import data\n",
    "from napari_particles.particles import Particles\n",
    "#from napari_storm.filters import ShaderFilter\n",
    "\n",
    "layer = Particles(np.vstack([R2['pos'][:,:]/1e-6, R3['pos'][:, :]/1e-6]), size = 1, sigmas = (1e-3, 1e-3, 1e-3), scale = [1,1,1])\n",
    "#viewer = napari.Viewer()\n",
    "#napari.view_image(data.astronaut(), rgb=True)\n",
    "#points1 = np.array([[10.2, 10.2, 20], [200, 200, 100], [300, 100, 200]])\n",
    "\n",
    "#points2 = np.vstack([R2['pos'][:,:]/1e-6, R3['pos'][:, :]/1e-6])\n",
    "#points_layer = viewer.add_points(R2['pos'][:,:]/1e-6, size=0.001, edge_color='red', edge_width = 0)\n",
    "v = napari.Viewer()\n",
    "layer.add_to_viewer(v)\n",
    "v.dims.ndisplay =3\n",
    "v.scale_bar.unit = \"1 um\"\n",
    "napari.run()\n"
   ]
  },
  {
   "cell_type": "code",
   "execution_count": 6,
   "id": "f2ab00c0",
   "metadata": {},
   "outputs": [],
   "source": [
    "v.scale_bar.unit = \"1 um\"\n"
   ]
  },
  {
   "cell_type": "code",
   "execution_count": 11,
   "id": "1b3925e8",
   "metadata": {},
   "outputs": [
    {
     "ename": "TypeError",
     "evalue": "uniform() takes at most 3 positional arguments (4 given)",
     "output_type": "error",
     "traceback": [
      "\u001b[1;31m---------------------------------------------------------------------------\u001b[0m",
      "\u001b[1;31mTypeError\u001b[0m                                 Traceback (most recent call last)",
      "Input \u001b[1;32mIn [11]\u001b[0m, in \u001b[0;36m<cell line: 3>\u001b[1;34m()\u001b[0m\n\u001b[0;32m      1\u001b[0m coords \u001b[38;5;241m=\u001b[39m np\u001b[38;5;241m.\u001b[39mrandom\u001b[38;5;241m.\u001b[39muniform(\u001b[38;5;241m0\u001b[39m,\u001b[38;5;241m100\u001b[39m,(\u001b[38;5;241m10000\u001b[39m,\u001b[38;5;241m3\u001b[39m))\n\u001b[0;32m      2\u001b[0m coords[:,\u001b[38;5;241m0\u001b[39m] \u001b[38;5;241m*\u001b[39m\u001b[38;5;241m=\u001b[39m\u001b[38;5;241m.1\u001b[39m\n\u001b[1;32m----> 3\u001b[0m sigmas   \u001b[38;5;241m=\u001b[39m [\u001b[43mnp\u001b[49m\u001b[38;5;241;43m.\u001b[39;49m\u001b[43mrandom\u001b[49m\u001b[38;5;241;43m.\u001b[39;49m\u001b[43muniform\u001b[49m\u001b[43m(\u001b[49m\u001b[38;5;241;43m10\u001b[39;49m\u001b[43m,\u001b[49m\u001b[43m \u001b[49m\u001b[38;5;241;43m10\u001b[39;49m\u001b[43m,\u001b[49m\u001b[43m \u001b[49m\u001b[38;5;241;43m1\u001b[39;49m\u001b[43m,\u001b[49m\u001b[43m \u001b[49m\u001b[38;5;28;43mlen\u001b[39;49m\u001b[43m(\u001b[49m\u001b[43mcoords\u001b[49m\u001b[43m)\u001b[49m\u001b[43m)\u001b[49m,np\u001b[38;5;241m.\u001b[39mrandom\u001b[38;5;241m.\u001b[39muniform(\u001b[38;5;241m.4\u001b[39m, \u001b[38;5;241m1\u001b[39m, \u001b[38;5;28mlen\u001b[39m(coords)), np\u001b[38;5;241m.\u001b[39mrandom\u001b[38;5;241m.\u001b[39muniform(\u001b[38;5;241m.4\u001b[39m, \u001b[38;5;241m1\u001b[39m, \u001b[38;5;28mlen\u001b[39m(coords))] \n\u001b[0;32m      4\u001b[0m sigmas\n",
      "File \u001b[1;32mmtrand.pyx:1014\u001b[0m, in \u001b[0;36mnumpy.random.mtrand.RandomState.uniform\u001b[1;34m()\u001b[0m\n",
      "\u001b[1;31mTypeError\u001b[0m: uniform() takes at most 3 positional arguments (4 given)"
     ]
    }
   ],
   "source": [
    "coords = np.random.uniform(0,100,(10000,3))\n",
    "coords[:,0] *=.1\n",
    "sigmas   = [np.random.uniform(1,20, len(coords)),np.random.uniform(1, 20, len(coords)), np.random.uniform(1, 20, len(coords))] \n",
    "sigmas"
   ]
  },
  {
   "cell_type": "code",
   "execution_count": 9,
   "id": "176c6668",
   "metadata": {},
   "outputs": [
    {
     "data": {
      "text/plain": [
       "array([[2.23370632e-01, 2.62623241e+01, 7.76389682e+01],\n",
       "       [2.81686934e+00, 4.46712280e+01, 8.20802191e+01],\n",
       "       [6.79501975e+00, 7.66957125e+01, 2.01510401e+00],\n",
       "       ...,\n",
       "       [8.57724289e-02, 9.68789860e+01, 5.18309309e+01],\n",
       "       [3.63993352e+00, 6.09984383e+01, 5.16537659e-01],\n",
       "       [3.00189557e-01, 7.36468838e+01, 6.26203987e+01]])"
      ]
     },
     "execution_count": 9,
     "metadata": {},
     "output_type": "execute_result"
    }
   ],
   "source": [
    "coords"
   ]
  },
  {
   "cell_type": "code",
   "execution_count": null,
   "id": "b2ed5ae8",
   "metadata": {},
   "outputs": [],
   "source": []
  }
 ],
 "metadata": {
  "kernelspec": {
   "display_name": "Python [conda env:devbio-napari-env]",
   "language": "python",
   "name": "conda-env-devbio-napari-env-py"
  },
  "language_info": {
   "codemirror_mode": {
    "name": "ipython",
    "version": 3
   },
   "file_extension": ".py",
   "mimetype": "text/x-python",
   "name": "python",
   "nbconvert_exporter": "python",
   "pygments_lexer": "ipython3",
   "version": "3.9.13"
  }
 },
 "nbformat": 4,
 "nbformat_minor": 5
}
