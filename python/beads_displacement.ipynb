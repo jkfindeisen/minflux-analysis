{
 "cells": [
  {
   "cell_type": "code",
   "execution_count": null,
   "id": "7e0d6a96",
   "metadata": {},
   "outputs": [],
   "source": [
    "#%config Completer.use_jedi = False"
   ]
  },
  {
   "cell_type": "code",
   "execution_count": 2,
   "id": "4980df48",
   "metadata": {},
   "outputs": [],
   "source": [
    "import math \n",
    "import napari\n",
    "from skimage.data import astronaut\n",
    "# create the viewer and display the image\n",
    "#viewer = napari.view_image(astronaut(), rgb=True)\n",
    "\n"
   ]
  },
  {
   "cell_type": "code",
   "execution_count": 2,
   "id": "cd2d236f",
   "metadata": {},
   "outputs": [],
   "source": [
    "import zarr\n",
    "import os\n",
    "import numpy as np\n",
    "from tkinter.filedialog import askdirectory\n",
    "import numpy as np\n",
    "import matplotlib.pyplot as plt\n",
    "\n",
    "#zarr_directory_beads = \"T:/Antonio_Politi/Code/minflux-analysis/resources/R2_P1_zarr\"\n",
    "zarr_directory_beads = \"C:/Users/apoliti/R2_P1_zarr\"\n",
    "\n",
    "beads = zarr.open(store = zarr_directory_beads, mode='r')\n",
    "R2 = beads['grd/mbm/R2']\n",
    "R3 = beads['grd/mbm/R3']"
   ]
  },
  {
   "cell_type": "code",
   "execution_count": 44,
   "id": "bbf1be3f",
   "metadata": {},
   "outputs": [],
   "source": [
    "viewer = napari.Viewer()\n",
    "points = viewer.add_points( ndim = 3, data= R2['pos']/1e-6, symbol = 'ring', face_color = 'white', size = 5, visible= True)\n"
   ]
  },
  {
   "cell_type": "code",
   "execution_count": 45,
   "id": "4d5211ac",
   "metadata": {
    "scrolled": true
   },
   "outputs": [],
   "source": [
    "coords = np.random.uniform(0,100,(10000,3))\n",
    "coords[:,0] *=.1\n",
    "size   = np.random.uniform(.4, 1, len(coords))\n",
    "values = np.random.uniform(0.2,1, len(coords))"
   ]
  },
  {
   "cell_type": "code",
   "execution_count": 47,
   "id": "8cf7e777",
   "metadata": {},
   "outputs": [],
   "source": [
    "viewer = napari.Viewer()\n",
    "points = viewer.add_points( ndim = 3, data= coords, symbol = 'ring', face_color = 'white', size = 5, visible= True)\n",
    "Points"
   ]
  },
  {
   "cell_type": "code",
   "execution_count": 23,
   "id": "4b124436",
   "metadata": {},
   "outputs": [
    {
     "name": "stdout",
     "output_type": "stream",
     "text": [
      "c\n",
      "c\n"
     ]
    }
   ],
   "source": [
    "import napari\n",
    "import numpy as np\n",
    "from skimage import data\n",
    "from napari_storm.particles import Particles\n",
    "from napari_storm.filters import ShaderFilter\n",
    "layer = Particles(R2['pos'][:,:]/1e-6, size = 1, sigmas = (1e-4, 1e-4, 1e-4))\n",
    "#viewer = napari.Viewer()\n",
    "#napari.view_image(data.astronaut(), rgb=True)\n",
    "#points1 = np.array([[10.2, 10.2, 20], [200, 200, 100], [300, 100, 200]])\n",
    "\n",
    "#points2 = np.vstack([R2['pos'][:,:]/1e-6, R3['pos'][:, :]/1e-6])\n",
    "#points_layer = viewer.add_points(R2['pos'][:,:]/1e-6, size=0.001, edge_color='red', edge_width = 0)\n",
    "v = napari.Viewer()\n",
    "layer.add_to_viewer(v)\n",
    "v.dims.ndisplay=3\n",
    "napari.run()"
   ]
  },
  {
   "cell_type": "code",
   "execution_count": 20,
   "id": "f2ab00c0",
   "metadata": {},
   "outputs": [
    {
     "name": "stderr",
     "output_type": "stream",
     "text": [
      "WARNING: Error drawing visual <SurfaceVisual at 0x192c896f460>\n",
      "WARNING: Error drawing visual <SurfaceVisual at 0x192c896f460>\n"
     ]
    }
   ],
   "source": [
    "v = napari.Viewer()\n",
    "layer.add_to_viewer(v)\n",
    "v.dims.ndisplay=3\n",
    "napari.run()"
   ]
  },
  {
   "cell_type": "code",
   "execution_count": null,
   "id": "1b3925e8",
   "metadata": {},
   "outputs": [],
   "source": []
  }
 ],
 "metadata": {
  "kernelspec": {
   "display_name": "Python [conda env:minflux-analysis]",
   "language": "python",
   "name": "conda-env-minflux-analysis-py"
  },
  "language_info": {
   "codemirror_mode": {
    "name": "ipython",
    "version": 3
   },
   "file_extension": ".py",
   "mimetype": "text/x-python",
   "name": "python",
   "nbconvert_exporter": "python",
   "pygments_lexer": "ipython3",
   "version": "3.10.4"
  }
 },
 "nbformat": 4,
 "nbformat_minor": 5
}
