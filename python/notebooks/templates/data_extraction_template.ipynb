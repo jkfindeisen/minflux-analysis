{
 "cells": [
  {
   "cell_type": "markdown",
   "id": "54b37d95",
   "metadata": {},
   "source": [
    "# Minflux data extraction for one directory\n",
    "\n",
    "Load files to analyse and export the data using MfxData class\n",
    "Perform an initial data inspection of reference beads, number of tracks etc. \n"
   ]
  },
  {
   "cell_type": "code",
   "execution_count": null,
   "id": "dbdae037",
   "metadata": {},
   "outputs": [],
   "source": [
    "# Some imports\n",
    "import sys\n",
    "import os, glob\n",
    "from mfx.mfxdata import MfxData \n",
    "from mfx import utilities as utl\n",
    "import re\n",
    "import math"
   ]
  },
  {
   "cell_type": "markdown",
   "id": "ab2560b7",
   "metadata": {},
   "source": [
    "# Set path names for analysis\n",
    "In the lower section the user specifies the path to the msr files, where to save the zarr file and the outputs.\n",
    "A zarr file is a 'file' extracted from msr that contains all relevant information.\n",
    "\n",
    "Note that Reading a zarr-file from network drive is still rather slow (why ?). \n",
    "Use local file for in and out of Zarr-file for the moment "
   ]
  },
  {
   "cell_type": "code",
   "execution_count": null,
   "id": "2a9d728a",
   "metadata": {},
   "outputs": [],
   "source": [
    "# Main directory that contains raw data, e.g. msr files.  Modify accordingly\n",
    "INDIR  = 'Z:/siva_minflux/data'    \n",
    "\n",
    "# Main directory to store zarr files.  Modify accordingly\n",
    "OUTDIR_LOC = 'C:/Users/apoliti/Desktop/mflux_zarr_tmp_storage/analysis' \n",
    "\n",
    "# Main directory to store results. This can be remote directory. Modify accordingly\n",
    "OUTDIR_REM =  'Z:/siva_minflux/analysis'  \n",
    "  \n",
    "\n",
    "# You can provide several key-values, i.e. keys = ['key1', 'key2', 'key3', ...]. the key-value correspond to the final \n",
    "# directory name containing the msr files.  \n",
    "keys = ['Syp_ATG9']\n",
    "\n",
    "# Combines paths to create directory names containing msr files\n",
    "indir = utl.gen_directories(INDIR, 'Multiwash', keys) # e.g. indir['Syp_ATG9'] = 'Z:/siva_minflux/data/Multiwash/Syp_ATG9'\n",
    "# Combines paths to create directory names to store zarrfiles result storage \n",
    "zarrdir = utl.gen_directories(OUTDIR_LOC, 'Multiwash', keys) \n",
    "# Combines paths to create directory names for result storage \n",
    "outdir = utl.gen_directories(OUTDIR_REM, 'Multiwash', keys) # e.g outdir['Syp_ATG9'] = 'Z:/siva_minflux/analysis/Multiwash/Syp_ATG9', \n",
    "# Find msr files\n",
    "msr_files = utl.gen_msrfiles(indir)\n",
    "msr_files\n",
    "\n"
   ]
  },
  {
   "cell_type": "markdown",
   "id": "d0e46893",
   "metadata": {},
   "source": [
    "# Preview Reference beads\n",
    "The goal of  the lower section is to QC the data, one file at a time, and check that enough beads have been recordered throughout the experiment.  Ideally 3 beads per ROI. \n",
    "\n",
    "The combined standard error of mean in the bead position should be low (se_xy, se_z). If these are too high even after alignment the user can decide to remove the data completely.\n",
    "\n",
    "The user changes the values of *id_file* to browse through all files. \n",
    "\n",
    "\n",
    "## How to improve the results\n",
    "By modifying the entries in *exclude_beads* one can check the effect of removing more unstable beads and improve the results (decrease in se_xy and se_z, se = standard error).\n",
    "\n",
    "Sometimes beads detach before the end of an experiment. By increasing *time_diff_ref* one allows to cut more of the experimental data. \n",
    "\n",
    "\n",
    "## Result outputs\n",
    "The obtained results of the QC are entered in the next cell variables and comments."
   ]
  },
  {
   "cell_type": "code",
   "execution_count": null,
   "id": "afecfe72",
   "metadata": {},
   "outputs": [],
   "source": [
    "utl.preview_ref_beads(msr_files=msr_files, out_dir=outdir, zarr_dir=zarrdir,  key='Syp_ATG9',\n",
    "             id_file=0, time_diff_ref=10, exclude_beads=['R0', 'R2', 'R9'])"
   ]
  },
  {
   "cell_type": "markdown",
   "id": "4a28e1e9",
   "metadata": {},
   "source": [
    "# Store results of QC\n",
    "The three variables are so-called *dictionaries* where the key is the name of the msr file. \n"
   ]
  },
  {
   "cell_type": "code",
   "execution_count": null,
   "id": "e002ab2f",
   "metadata": {},
   "outputs": [],
   "source": [
    "# Valid msr files, for instance because lacking of common reference. This can be fixed at a later time point \n",
    "invalid_msrfile = {'220510_Syp_ATG9_ROI02.msr'} # this file will not be used\n",
    "exclude_beads = {'220510_Syp_ATG9_ROI01.msr': ['R0', 'R2', 'R9'], '220510_Syp_ATG9_ROI03.msr': ['R4'], \n",
    "                 '220601_Syp_ATG9_ROI03.msr': ['R10'], '220825_Syp_ATG9_ROI01.msr': ['R13']} # list of files and beads to exclude\n",
    "time_diff = {'220510_Syp_ATG9_ROI01.msr': 20} # list of files and time difference to apply. \n",
    "                                                     # when no value default of maximally 10 sec is used\n",
    "# Syp_ATG9\n",
    "# 220510_Syp_ATG9_ROI01.msr: 6 beads, good, exclude [R0, R2, R9] to improve precision. \n",
    "# 220510_Syp_ATG9_ROI02.msr: No common beads, needs a matching\n",
    "# 220510_Syp_ATG9_ROI03.msr: Exclude R4\n",
    "# 220601_Syp_ATG9_ROI01.msr: 3 beads, ok\n",
    "# 220601_Syp_ATG9_ROI02.msr: 4 beads, good\n",
    "# 220601_Syp_ATG9_ROI03.msr: 4 beads, ok,  exclude R10\n",
    "# 220601_Syp_ATG9_ROI04.msr: 4 beads, good\n",
    "# 220601_Syp_ATG9_ROI05.msr: 4 beads, ok\n",
    "# 220601_Syp_ATG9_ROI06.msr: 4 beads, good\n",
    "# 220601_Syp_ATG9_ROI07.msr: 3 beads, ok\n",
    "# 220614_Syp_ATG9_ROI01.msr: 3 beads, ok\n",
    "# 220825_Syp_ATG9_ROI01.msr: 5 beads, poor, strange fluctuations. Exclude R13. Failed to align ??. Do not use\n",
    "\n"
   ]
  },
  {
   "cell_type": "markdown",
   "id": "9ffc949b",
   "metadata": {},
   "source": [
    "# Alignment of data to reference beads\n",
    "The measurements data are aligned to the reference beads that have been previously curated. "
   ]
  },
  {
   "cell_type": "code",
   "execution_count": null,
   "id": "d9a80514",
   "metadata": {
    "scrolled": true
   },
   "outputs": [],
   "source": [
    "# Align data to beads \n",
    "utl.align_to_ref_beads(msr_files=msr_files, out_dir=outdir, zarr_dir=zarrdir, \n",
    "           invalid_msr=invalid_msrfile, exclude_beads=exclude_beads, \n",
    "           time_diff_ref=time_diff, wash_to_use='Syp_ATG9')\n",
    "        "
   ]
  }
 ],
 "metadata": {
  "kernelspec": {
   "display_name": "Python [conda env:minflux-analysis]",
   "language": "python",
   "name": "conda-env-minflux-analysis-py"
  },
  "language_info": {
   "codemirror_mode": {
    "name": "ipython",
    "version": 3
   },
   "file_extension": ".py",
   "mimetype": "text/x-python",
   "name": "python",
   "nbconvert_exporter": "python",
   "pygments_lexer": "ipython3",
   "version": "3.9.13"
  }
 },
 "nbformat": 4,
 "nbformat_minor": 5
}
