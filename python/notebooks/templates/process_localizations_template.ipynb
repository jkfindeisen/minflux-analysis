{
 "cells": [
  {
   "cell_type": "markdown",
   "id": "c172a912",
   "metadata": {},
   "source": [
    "# Minflux processing of localizations\n",
    "\n",
    "Here we perform trimming and clustering of the localization data. Save some of the results as csv and paraview compatible files. \n",
    "\n"
   ]
  },
  {
   "cell_type": "code",
   "execution_count": null,
   "id": "2ffcead5",
   "metadata": {},
   "outputs": [],
   "source": [
    "# Some imports\n",
    "import sys\n",
    "import os, glob\n",
    "from mfx.processlocalizations import ProcessLocalizations\n",
    "import re\n",
    "from matplotlib import pyplot as plt\n",
    "import math\n",
    "import numpy as np\n",
    "from mfx import mfxcolnames as col\n",
    "from mfx import utilities as utl\n",
    "from mfx.processlocalizations import ProcessLocalizations"
   ]
  },
  {
   "cell_type": "markdown",
   "id": "b8f6ba56",
   "metadata": {},
   "source": [
    "# Set path names for analysis\n"
   ]
  },
  {
   "cell_type": "code",
   "execution_count": null,
   "id": "ddb58df8",
   "metadata": {},
   "outputs": [],
   "source": [
    "# Main directory that contains raw data, e.g. msr files.  Modify accordingly\n",
    "INDIR  = 'Z:/siva_minflux/data'    \n",
    "\n",
    "# Main directory to store zarr files.  Modify accordingly\n",
    "OUTDIR_LOC = 'C:/Users/apoliti/Desktop/mflux_zarr_tmp_storage/analysis' \n",
    "\n",
    "# Main directory to store results. This can be remote directory. Modify accordingly\n",
    "OUTDIR_REM =  'Z:/siva_minflux/analysis'  \n",
    "  \n",
    "\n",
    "# You can provide several key-values, i.e. keys = ['key1', 'key2', 'key3', ...]. the key-value correspond to the final \n",
    "# directory name containing the msr files.  \n",
    "keys = ['Syp_ATG9']\n",
    "\n",
    "# Combines paths to create directory names containing msr files\n",
    "indir = utl.gen_directories(INDIR, 'Multiwash', keys) # e.g. indir['Syp_ATG9'] = 'Z:/siva_minflux/data/Multiwash/Syp_ATG9'\n",
    "# Combines paths to create directory names to store zarrfiles result storage \n",
    "zarrdir = utl.gen_directories(OUTDIR_LOC, 'Multiwash', keys) \n",
    "# Combines paths to create directory names for result storage \n",
    "outdir = utl.gen_directories(OUTDIR_REM, 'Multiwash', keys) # e.g outdir['Syp_ATG9'] = 'Z:/siva_minflux/analysis/Multiwash/Syp_ATG9', \n",
    "# generate a list of npy files located in outdir. \n",
    "# These files are obtained from data_extraction \n",
    "npy_files = utl.gen_npyfiles(outdir)\n",
    "\n",
    "# Verify if one indeed get the correct files!\n",
    "npy_files \n"
   ]
  },
  {
   "cell_type": "markdown",
   "id": "b50dae0a",
   "metadata": {},
   "source": [
    "# Processing of data using different values of the DBscan parameter\n",
    "\n",
    "The function *utilities.process_mfx_npyfile* is an example on how localizations data can be processed and which kind of data can be exported. "
   ]
  },
  {
   "cell_type": "code",
   "execution_count": null,
   "id": "968de0c5",
   "metadata": {},
   "outputs": [],
   "source": [
    "# Parameters for DB_CLUSTER of each measurement and multiple measurements\n",
    "# (for colocalization)\n",
    "eps_range = [1e-8, 2e-8, 3e-8, 4e-8, 5e-8, 6e-8, 7e-8, 8e-8]\n",
    "\n",
    "for label in npy_files:\n",
    "    for afile in npy_files[label]:\n",
    "        utl.process_mfx_npyfile(afile, eps_range=eps_range)"
   ]
  }
 ],
 "metadata": {
  "kernelspec": {
   "display_name": "Python [conda env:minflux-analysis]",
   "language": "python",
   "name": "conda-env-minflux-analysis-py"
  },
  "language_info": {
   "codemirror_mode": {
    "name": "ipython",
    "version": 3
   },
   "file_extension": ".py",
   "mimetype": "text/x-python",
   "name": "python",
   "nbconvert_exporter": "python",
   "pygments_lexer": "ipython3",
   "version": "3.9.13"
  }
 },
 "nbformat": 4,
 "nbformat_minor": 5
}
