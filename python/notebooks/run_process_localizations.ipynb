{
 "cells": [
  {
   "cell_type": "code",
   "execution_count": 1,
   "id": "2ffcead5",
   "metadata": {},
   "outputs": [],
   "source": [
    "# Some imports\n",
    "import sys\n",
    "import os, glob\n",
    "from mfx.processlocalizations import ProcessLocalizations\n",
    "import re\n",
    "from matplotlib import pyplot as plt\n",
    "import math\n",
    "import numpy as np\n",
    "from mfx import mfxcolnames as col"
   ]
  },
  {
   "cell_type": "code",
   "execution_count": 2,
   "id": "3c95dff1",
   "metadata": {},
   "outputs": [],
   "source": [
    "# Get file names\n",
    "\n",
    "def gen_directories( maindir, subdir, keys):\n",
    "    outdir = {}\n",
    "    for key in keys:\n",
    "        outdir[key] = os.path.join(maindir, subdir, key)\n",
    "    return outdir\n",
    "\n",
    "def gen_npyfiles(dir_dict):\n",
    "    npy_files = {}\n",
    "    for key in dir_dict:\n",
    "        npy_files[key] = []\n",
    "\n",
    "    for key in dir_dict:\n",
    "        for (root, dirs, files) in os.walk(dir_dict[key]):\n",
    "            if len(dirs) > 0:\n",
    "                for adir in dirs:\n",
    "                    npyfile = os.path.join(root, adir, adir +'.npy')\n",
    "                    if os.path.exists(npyfile):\n",
    "                        npy_files[key].append(npyfile)\n",
    "                    \n",
    "    return npy_files\n",
    "\n",
    "\n",
    "OUTDIR_LOC = 'C:/Users/apoliti/Desktop/mflux_zarr_tmp_storage/analysis' # Main directory to store zarr files\n",
    "OUTDIR_REM =  'Z:/siva_minflux/analysis'  # Main directory to store results \n",
    "INDIR  = 'Z:/siva_minflux/data'       # main directory of msr file\n",
    "\n",
    "# Multiple washes with different imager strand\n",
    "keys = ['Syp_ATG9', 'ZnT3_Syp', 'Syp_Picc']\n",
    "indir_mwash = gen_directories(INDIR, 'Multiwash', keys)\n",
    "outdir_mwash = gen_directories(OUTDIR_REM, 'Multiwash', keys)\n",
    "zarrdir_mwash = gen_directories(OUTDIR_LOC, 'Multiwash', keys) \n",
    "npy_mwash = gen_npyfiles(outdir_mwash)\n",
    "\n",
    "# Wash with a single imager strand\n",
    "keys = ['Syp', 'ATG9', 'VGLUT1']\n",
    "indir_swash =  gen_directories(INDIR, 'Single wash', keys)\n",
    "outdir_swash =  gen_directories(OUTDIR_REM, 'Single wash', keys)\n",
    "zarrdir_swash =  gen_directories(OUTDIR_LOC, 'Single wash', keys)\n",
    "npy_swash = gen_npyfiles(outdir_swash)\n",
    "\n",
    "\n",
    "# Consitency controls. Wash with a single imager strand but multiple times. \n",
    "keys = ['VGLUT1_VGLUT1']\n",
    "indir_cwash =  gen_directories(INDIR, 'Multiwash', keys)\n",
    "outdir_cwash = gen_directories(OUTDIR_REM, 'Multiwash', keys)\n",
    "zarrdir_cwash = gen_directories(OUTDIR_LOC, 'Multiwash', keys) \n",
    "npy_cwash = gen_npyfiles(outdir_cwash)\n",
    "\n"
   ]
  },
  {
   "cell_type": "code",
   "execution_count": 3,
   "id": "c23abe67",
   "metadata": {},
   "outputs": [],
   "source": [
    "def processFile(file_name, eps_range):\n",
    "    pl = ProcessLocalizations(file_name)\n",
    "    pl.trim_min_localizations()\n",
    "    # Split tracks if needed, remove outliers in each track\n",
    "    pl.cluster_tid(method=pl.CLS_METHOD_BAYES_GMM)\n",
    "\n",
    "    # find objects that belong to the same cluster according to distance 30 nm\n",
    "    for eps in eps_range:\n",
    "            \n",
    "        pl.DBCLUSTER_EPS_MEAS = eps\n",
    "        pl.DBCLUSTER_EPS_ALL = eps\n",
    "        pl.DBCLUSTER_EPS_MERGED_ALL = eps\n",
    "        pl.DBCLUSTER_EPS_MERGED_MEAS = eps\n",
    "        pl.log_parameters()\n",
    "    \n",
    "        pl.cluster_meas(method=pl.CLS_METHOD_DBSCAN)\n",
    "        pl.cluster_all(method=pl.CLS_METHOD_DBSCAN)\n",
    "        pl.cluster_all_intersect(col.CLS_ALL)\n",
    "        summary_dict = pl.summary_per_tid2()\n",
    "        eps_txt = '%.0f' % (eps*1e9)\n",
    "        pl.export_csv(summary_dict, file_path=pl.file_path_no_ext() + '_eps' + eps_txt)\n",
    "        pl.export_vtu(in_dict=summary_dict, coord=col.LTR, \n",
    "                      file_path=pl.file_path_no_ext() + '_eps' +  eps_txt)\n",
    "    "
   ]
  },
  {
   "cell_type": "code",
   "execution_count": null,
   "id": "968de0c5",
   "metadata": {},
   "outputs": [],
   "source": [
    "eps_range = [1e-8, 2e-8, 3e-8, 4e-8, 5e-8, 6e-8, 7e-8, 8e-8]\n",
    "\n",
    "for label in npy_swash:\n",
    "    if label == 'VGLUT1':\n",
    "        for afile in npy_swash[label]:\n",
    "            processFile(afile, eps_range=eps_range)"
   ]
  },
  {
   "cell_type": "code",
   "execution_count": null,
   "id": "aa2186c3",
   "metadata": {},
   "outputs": [],
   "source": [
    "eps_range = [1e-8, 2e-8, 3e-8, 4e-8, 5e-8, 6e-8, 7e-8, 8e-8]\n",
    "for label in npy_mwash:\n",
    "    if label == 'Syp_Picc':\n",
    "        for afile in npy_mwash[label]:\n",
    "            processFile(afile, eps_range=eps_range)"
   ]
  },
  {
   "cell_type": "code",
   "execution_count": null,
   "id": "3c79bbab",
   "metadata": {},
   "outputs": [],
   "source": [
    "eps_range = [1e-8, 2e-8, 3e-8, 4e-8, 5e-8, 6e-8, 7e-8, 8e-8]\n",
    "for label in npy_cwash:\n",
    "    for afile in npy_cwash[label]:\n",
    "        processFile(afile, eps_range=eps_range)"
   ]
  },
  {
   "cell_type": "code",
   "execution_count": 6,
   "id": "b1512780",
   "metadata": {},
   "outputs": [
    {
     "name": "stdout",
     "output_type": "stream",
     "text": [
      "export paraview file\n",
      "export paraview file\n",
      "\u001b[38;5;39m2022-09-27 08:47:14,331 [INFO] **** trim_min_localizations ****\n",
      "220309_ZnT3_P1 Removed 81/361 tracks with less than 3 localizations\n",
      "220309_Syp_P2 Removed 233/725 tracks with less than 3 localizations\n",
      "\u001b[0m\n"
     ]
    },
    {
     "name": "stderr",
     "output_type": "stream",
     "text": [
      "C:\\Users\\apoliti\\Miniconda3\\envs\\minflux-analysis\\lib\\site-packages\\sklearn\\mixture\\_base.py:286: ConvergenceWarning: Initialization 3 did not converge. Try different init parameters, or increase max_iter, tol or check for degenerate data.\n",
      "  warnings.warn(\n"
     ]
    },
    {
     "name": "stdout",
     "output_type": "stream",
     "text": [
      "\u001b[38;5;39m2022-09-27 08:47:22,916 [INFO] **** cluster_tid ****\n",
      "220309_ZnT3_P1 MIN_SPLIT_LOCALIZATION: 6, sd_limit: 9.49 nm\n",
      "Processed TID: 46 / 280, Total tracks TID2: 319\n",
      "220309_Syp_P2 MIN_SPLIT_LOCALIZATION: 6, sd_limit: 9.49 nm\n",
      "Processed TID: 112 / 492, Total tracks TID2: 585\n",
      "\u001b[0m\n",
      "\u001b[38;5;39m2022-09-27 08:47:22,920 [INFO] **** log_parameters ****\n",
      "file_path Z:/siva_minflux/analysis\\Multiwash\\ZnT3_Syp\\220309_ZnT3_Syp_ROI02\\220309_ZnT3_Syp_ROI02.npy\n",
      "MIN_LOCALIZATIONS 3\n",
      "FACT_SPLIT_LOCALIZATIONS 2\n",
      "DBCLUSTER_SIZE 3\n",
      "DBCLUSTER_EPS_TRACK 2e-08\n",
      "DBCLUSTER_EPS_MEAS 4e-08\n",
      "DBCLUSTER_EPS_ALL 4e-08\n",
      "DBCLUSTER_EPS_MERGED_ALL 4e-08\n",
      "DBCLUSTER_EPS_MERGED_MEAS 4e-08\n",
      "ref_error {'se_xy': 2.909006439699532e-09, 'se_z': 2.297593589478866e-09, 'std_xy': 5.038546953104639e-09, 'std_z': 3.979548832121945e-09}\n",
      "logger <Logger processlocalizations (INFO)>\n",
      "\u001b[0m\n",
      "\u001b[38;5;39m2022-09-27 08:47:23,463 [INFO] **** cluster_meas ****\n",
      "220309_ZnT3_P1, Method dbscan, eps: 40.00 nm\n",
      "Total tracks TID2: 318, total clusters meas: 87\n",
      "220309_Syp_P2, Method dbscan, eps: 40.00 nm\n",
      "Total tracks TID2: 584, total clusters meas: 113\n",
      "\u001b[0m\n",
      "\u001b[38;5;39m2022-09-27 08:47:24,187 [INFO] **** cluster_all ****\n",
      "220309_ZnT3_P1, Method: dbscan, eps: 40.00 nm\n",
      "Total tracks TID2: 318, total cluster all: 82\n",
      "220309_Syp_P2, Method: dbscan, eps: 40.00 nm\n",
      "Total tracks TID2: 584, total cluster all: 109\n",
      "\u001b[0m\n",
      "export paraview file\n",
      "export paraview file\n"
     ]
    }
   ],
   "source": [
    "# Export data for presentation\n",
    "epsv = 4e-8\n",
    "pl = ProcessLocalizations(npy_mwash['ZnT3_Syp'][1])\n",
    "pl.export_raw_vtu(pl.loc, coord = col.LTR, file_path=pl.file_path_no_ext() + '_rawdata', unit=col.UNIT_UM)\n",
    "pl.export_raw_vtu(pl.loc, coord = col.LOC, file_path=pl.file_path_no_ext() + '_rawdata', unit=col.UNIT_UM)\n",
    "pl.trim_min_localizations()\n",
    "# Split tracks if needed, remove outliers in each track\n",
    "pl.cluster_tid(method=pl.CLS_METHOD_BAYES_GMM)\n",
    "pl.DBCLUSTER_EPS_MEAS = epsv\n",
    "pl.DBCLUSTER_EPS_ALL = epsv\n",
    "pl.DBCLUSTER_EPS_MERGED_ALL = epsv\n",
    "pl.DBCLUSTER_EPS_MERGED_MEAS = epsv\n",
    "pl.log_parameters()\n",
    "pl.cluster_meas(method=pl.CLS_METHOD_DBSCAN)\n",
    "pl.cluster_all(method=pl.CLS_METHOD_DBSCAN)\n",
    "summary_dict = pl.summary_per_tid2()\n",
    "eps_txt = '%.0f' % (epsv*1e9)\n",
    "pl.export_vtu(in_dict=summary_dict, coord=col.LTR, \n",
    "                      file_path=pl.file_path_no_ext() + '_eps' +  eps_txt, unit = col.UNIT_UM)\n",
    "summary_dict_filter = pl.filter_summary_loc(summary_dict, filter_cluster={'name': col.CLS_MERGED_MEAS, 'size': 3})\n",
    "pl.export_vtu(in_dict=summary_dict_filter, coord=col.LTR, \n",
    "                      file_path=pl.file_path_no_ext() + '_eps' +  eps_txt + '_filter_n3', unit = col.UNIT_UM)\n",
    "\n"
   ]
  },
  {
   "cell_type": "code",
   "execution_count": 11,
   "id": "c5af20e9",
   "metadata": {},
   "outputs": [],
   "source": [
    "summary_dict_filter = pl.filter_summary_loc(summary_dict, filter_cluster={'name': col.CLS_MERGED_MEAS, 'size': 3})"
   ]
  },
  {
   "cell_type": "code",
   "execution_count": 14,
   "id": "3012d779",
   "metadata": {},
   "outputs": [
    {
     "data": {
      "text/plain": [
       "'Z:/siva_minflux/analysis\\\\Multiwash\\\\ZnT3_Syp\\\\220309_ZnT3_Syp_ROI02\\\\220309_ZnT3_Syp_ROI02.npy'"
      ]
     },
     "execution_count": 14,
     "metadata": {},
     "output_type": "execute_result"
    }
   ],
   "source": [
    "npy_mwash['ZnT3_Syp'][1]\n"
   ]
  },
  {
   "cell_type": "code",
   "execution_count": null,
   "id": "9b4c56fd",
   "metadata": {},
   "outputs": [],
   "source": []
  }
 ],
 "metadata": {
  "kernelspec": {
   "display_name": "Python [conda env:minflux-analysis]",
   "language": "python",
   "name": "conda-env-minflux-analysis-py"
  },
  "language_info": {
   "codemirror_mode": {
    "name": "ipython",
    "version": 3
   },
   "file_extension": ".py",
   "mimetype": "text/x-python",
   "name": "python",
   "nbconvert_exporter": "python",
   "pygments_lexer": "ipython3",
   "version": "3.9.13"
  }
 },
 "nbformat": 4,
 "nbformat_minor": 5
}
