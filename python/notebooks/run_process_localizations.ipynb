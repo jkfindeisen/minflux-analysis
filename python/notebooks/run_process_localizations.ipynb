{
 "cells": [
  {
   "cell_type": "code",
   "execution_count": 1,
   "id": "2ffcead5",
   "metadata": {},
   "outputs": [],
   "source": [
    "# Some imports\n",
    "import sys\n",
    "import os, glob\n",
    "from mfx.processlocalizations import ProcessLocalizations\n",
    "import re\n",
    "from matplotlib import pyplot as plt\n",
    "import math\n",
    "import numpy as np\n",
    "from mfx import mfxcolnames as col"
   ]
  },
  {
   "cell_type": "code",
   "execution_count": 2,
   "id": "3c95dff1",
   "metadata": {},
   "outputs": [],
   "source": [
    "# Get file names\n",
    "\n",
    "OUTDIR_LOC = 'C:/Users/apoliti/Desktop/mflux_zarr_tmp_storage/analysis/' # Main directory to store zarr files\n",
    "OUTDIR_REM =  'Z:/siva_minflux/analysis/'  # Main directory to store results \n",
    "INDIR  = 'Z:/siva_minflux/data/'       # main directory of msr file\n",
    "\n",
    "# Multiple washes with different imager strand\n",
    "indir_mwash = {'Syp_ATG9': INDIR + '/Multiwash/Syp_ATG9/', \n",
    "             'ZnT3_Syp': INDIR + '/Multiwash/ZnT3_Syp/'}\n",
    "outdir_mwash = {'Syp_ATG9': OUTDIR_REM +  '/Multiwash/Syp_ATG9/', \n",
    "                'ZnT3_Syp': OUTDIR_REM +  '/Multiwash/ZnT3_Syp/'}\n",
    "zarrdir_mwash = {'Syp_ATG9': OUTDIR_LOC + '/Multiwash/Syp_ATG9', \n",
    "                'ZnT3_Syp': OUTDIR_LOC + '/Multiwash/ZnT3_Syp/'}\n",
    "\n",
    "# Wash with a single imager strand\n",
    "indir_swash = {'Syp': INDIR + '/Single wash/Syp/', \n",
    "             'ATG9': INDIR + '/Single wash/ATG9/'}\n",
    "outdir_swash = {'Syp': OUTDIR_REM +  '/Single wash/Syp/', \n",
    "                'ATG9': OUTDIR_REM +  '/Single wash/ATG9/'}\n",
    "zarrdir_swash = {'Syp': OUTDIR_LOC +  '/Single wash/Syp/', \n",
    "                'ATG9': OUTDIR_LOC +  '/Single wash/ATG9/'}\n",
    "\n",
    "\n",
    "# Consitency controls. Wash with a single imager strand but multiple times. \n",
    "indir_cwash = {'VGLUT1_VGLUT1': INDIR + '/Multiwash/VGLUT1_VGLUT1/'}\n",
    "outdir_cwash = {'VGLUT1_VGLUT1': OUTDIR_REM +  '/Multiwash/VGLUT1_VGLUT1/'}\n",
    "zarrdir_cwash = {'VGLUT1_VGLUT1': OUTDIR_LOC +  '/Multiwash/VGLUT1_VGLUT1/'}\n",
    "\n",
    "\n",
    "\n",
    "npy_mwash = {'Syp_ATG9': [], 'ZnT3_Syp': []}\n",
    "\n",
    "for key in outdir_mwash:\n",
    "    for (root, dirs, files) in os.walk(outdir_mwash[key]):\n",
    "        if len(dirs) > 0:\n",
    "            for adir in dirs:\n",
    "                npyfile = os.path.join(root, adir, adir +'.npy')\n",
    "                if os.path.exists(npyfile):\n",
    "                    npy_mwash[key].append(npyfile)\n",
    "                    \n",
    "\n",
    "npy_swash = {'Syp': [], 'ATG9': []}\n",
    "\n",
    "for key in outdir_swash:\n",
    "    for (root, dirs, files) in os.walk(outdir_swash[key]):\n",
    "        if len(dirs) > 0:\n",
    "            for adir in dirs:\n",
    "                npyfile = os.path.join(root, adir, adir +'.npy')\n",
    "                if os.path.exists(npyfile):\n",
    "                    npy_swash[key].append(npyfile)\n",
    "\n",
    "npy_cwash = {'VGLUT1_VGLUT1': []}\n",
    "\n",
    "for key in outdir_cwash:\n",
    "    for (root, dirs, files) in os.walk(outdir_cwash[key]):\n",
    "        if len(dirs) > 0:\n",
    "            for adir in dirs:\n",
    "                npyfile = os.path.join(root, adir, adir +'.npy')\n",
    "                if os.path.exists(npyfile):\n",
    "                    npy_cwash[key].append(npyfile)\n",
    "                    "
   ]
  },
  {
   "cell_type": "code",
   "execution_count": null,
   "id": "c23abe67",
   "metadata": {},
   "outputs": [
    {
     "name": "stdout",
     "output_type": "stream",
     "text": [
      "\u001b[38;5;39m2022-09-21 18:29:26,839 [INFO] **** log_parameters ****\n",
      "file_path Z:/siva_minflux/analysis//Multiwash/VGLUT1_VGLUT1/220811_VGLUT1_ROI01_First\\220811_VGLUT1_ROI01_First.npy\n",
      "MIN_LOCALIZATIONS 3\n",
      "FACT_SPLIT_LOCALIZATIONS 2\n",
      "DBCLUSTER_SIZE 3\n",
      "DBCLUSTER_EPS_TRACK 2e-08\n",
      "DBCLUSTER_EPS_MEAS 2e-08\n",
      "DBCLUSTER_EPS_ALL 2e-08\n",
      "DBCLUSTER_EPS_MERGED_ALL 2e-08\n",
      "DBCLUSTER_EPS_MERGED_MEAS 2e-08\n",
      "\u001b[0m\n",
      "\u001b[38;5;39m2022-09-21 18:29:26,839 [INFO] **** log_parameters ****\n",
      "file_path Z:/siva_minflux/analysis//Multiwash/VGLUT1_VGLUT1/220811_VGLUT1_ROI01_First\\220811_VGLUT1_ROI01_First.npy\n",
      "MIN_LOCALIZATIONS 3\n",
      "FACT_SPLIT_LOCALIZATIONS 2\n",
      "DBCLUSTER_SIZE 3\n",
      "DBCLUSTER_EPS_TRACK 2e-08\n",
      "DBCLUSTER_EPS_MEAS 2e-08\n",
      "DBCLUSTER_EPS_ALL 2e-08\n",
      "DBCLUSTER_EPS_MERGED_ALL 2e-08\n",
      "DBCLUSTER_EPS_MERGED_MEAS 2e-08\n",
      "\u001b[0m\n",
      "\u001b[38;5;39m2022-09-21 18:29:26,858 [INFO] **** trim_min_localizations ****\n",
      "220811_VGLUT1_P1 Removed 927/2692 tracks with less than 3 localizations\n",
      "220811_VGLUT1_P2 Removed 738/1813 tracks with less than 3 localizations\n",
      "\u001b[0m\n",
      "\u001b[38;5;39m2022-09-21 18:29:26,858 [INFO] **** trim_min_localizations ****\n",
      "220811_VGLUT1_P1 Removed 927/2692 tracks with less than 3 localizations\n",
      "220811_VGLUT1_P2 Removed 738/1813 tracks with less than 3 localizations\n",
      "\u001b[0m\n"
     ]
    }
   ],
   "source": [
    "pl = ProcessLocalizations(npy_cwash['VGLUT1_VGLUT1'][1])\n",
    "pl.log_parameters()\n",
    "pl.MIN_LOCALIZATIONS = 3\n",
    "pl.trim_min_localizations()\n",
    "# Split tracks if needed, remove outliers in each track\n",
    "pl.cluster_tid(method=pl.CLS_METHOD_BAYES_GMM)\n",
    "\n",
    "# find objects that belong to the same cluster according to distance 30 nm\n",
    "pl.cluster_meas(method=pl.CLS_METHOD_DBSCAN)\n",
    "#pl.DBCLUSTER_EPS_ALL = 6e-8\n",
    "pl.cluster_all(method=pl.CLS_METHOD_DBSCAN)\n",
    "pl.cluster_all_intersect(col.CLS_ALL)"
   ]
  },
  {
   "cell_type": "code",
   "execution_count": 10,
   "id": "968de0c5",
   "metadata": {},
   "outputs": [
    {
     "name": "stdout",
     "output_type": "stream",
     "text": [
      "*******cluster_all*******\n",
      "220811_VGLUT1_P1, Method: dbscan, eps: 30.00 nm\n",
      "Total tracks TID2: 1805, total cluster all: 457\n",
      "*******cluster_all*******\n",
      "220811_VGLUT1_P2, Method: dbscan, eps: 30.00 nm\n",
      "Total tracks TID2: 1098, total cluster all: 376\n",
      "*******cluster_all_intersect*******\n",
      "220811_VGLUT1_P1 cluster with 220811_VGLUT1_P2 cls 74/456 = 0.16; TID2 1212/1805 = 0.67\n",
      "220811_VGLUT1_P2 cluster with 220811_VGLUT1_P1 cls 74/375 = 0.20; TID2 673/1098 = 0.61\n"
     ]
    }
   ],
   "source": [
    "pl.DBCLUSTER_EPS_ALL = 3e-8\n",
    "pl.cluster_all(method=pl.CLS_METHOD_DBSCAN)\n",
    "pl.cluster_all_intersect(col.CLS_ALL)"
   ]
  },
  {
   "cell_type": "code",
   "execution_count": null,
   "id": "a9363ce6",
   "metadata": {},
   "outputs": [],
   "source": [
    "sum(pl.loc['220825_Syp_P1'][col.TID2] == -1)"
   ]
  },
  {
   "cell_type": "code",
   "execution_count": null,
   "id": "a4e57ee3",
   "metadata": {},
   "outputs": [],
   "source": [
    "npy_cwash['VGLUT1_VGLUT1'][1]"
   ]
  },
  {
   "cell_type": "code",
   "execution_count": null,
   "id": "aa2186c3",
   "metadata": {},
   "outputs": [],
   "source": []
  }
 ],
 "metadata": {
  "kernelspec": {
   "display_name": "Python [conda env:minflux-analysis]",
   "language": "python",
   "name": "conda-env-minflux-analysis-py"
  },
  "language_info": {
   "codemirror_mode": {
    "name": "ipython",
    "version": 3
   },
   "file_extension": ".py",
   "mimetype": "text/x-python",
   "name": "python",
   "nbconvert_exporter": "python",
   "pygments_lexer": "ipython3",
   "version": "3.9.13"
  }
 },
 "nbformat": 4,
 "nbformat_minor": 5
}
